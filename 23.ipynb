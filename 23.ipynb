{
 "cells": [
  {
   "cell_type": "code",
   "execution_count": 63,
   "metadata": {},
   "outputs": [],
   "source": [
    "filename = \"input_23\"\n",
    "#filename = \"example_23.txt\"\n",
    "with open(filename) as f:\n",
    "    input = [line.split(\"-\") for line in f.read().split(\"\\n\")]"
   ]
  },
  {
   "cell_type": "markdown",
   "metadata": {},
   "source": [
    "#### Generate graph from input:"
   ]
  },
  {
   "cell_type": "code",
   "execution_count": 71,
   "metadata": {},
   "outputs": [],
   "source": [
    "graph = {}\n",
    "for computer1, computer2 in input:\n",
    "    if computer1 in graph.keys():\n",
    "        graph[computer1].append(computer2)\n",
    "    else:\n",
    "        graph[computer1] = [computer2]\n",
    "    if computer2 in graph.keys():\n",
    "        graph[computer2].append(computer1)\n",
    "    else:\n",
    "        graph[computer2] = [computer1]"
   ]
  },
  {
   "cell_type": "markdown",
   "metadata": {},
   "source": [
    "#### Part 1:"
   ]
  },
  {
   "cell_type": "code",
   "execution_count": 65,
   "metadata": {},
   "outputs": [],
   "source": [
    "triples = set()\n",
    "for computer1 in graph.keys():\n",
    "    for computer2 in graph[computer1]:\n",
    "        for computer3 in graph[computer2]:\n",
    "            condition = computer1[0] == \"t\" or computer2[0] == \"t\" or computer3[0] == \"t\"\n",
    "            if computer1 in graph[computer3] and condition:\n",
    "                triple = [computer1, computer2, computer3]\n",
    "                triples.add(tuple(sorted(triple)))"
   ]
  },
  {
   "cell_type": "code",
   "execution_count": null,
   "metadata": {},
   "outputs": [],
   "source": [
    "len(triples)"
   ]
  },
  {
   "cell_type": "markdown",
   "metadata": {},
   "source": [
    "#### Part 2:\n",
    "solution using basic Bron-Kerbosch algorithm"
   ]
  },
  {
   "cell_type": "code",
   "execution_count": 67,
   "metadata": {},
   "outputs": [],
   "source": [
    "def Bron_Kerbosch(R, P, X, graph, cliques):\n",
    "\n",
    "    if P == set() and X == set():\n",
    "        cliques.append(R)\n",
    "        return\n",
    "    \n",
    "    for v in P.copy():\n",
    "        N = set(graph[v])\n",
    "        Bron_Kerbosch(R | {v}, P & N, X & N, graph, cliques)\n",
    "        P.remove(v)\n",
    "        X.add(v)"
   ]
  },
  {
   "cell_type": "code",
   "execution_count": 68,
   "metadata": {},
   "outputs": [],
   "source": [
    "R = set()\n",
    "X = set()\n",
    "P = set(graph.keys())\n",
    "cliques = []\n",
    "Bron_Kerbosch(R, P, X, graph, cliques)"
   ]
  },
  {
   "cell_type": "code",
   "execution_count": null,
   "metadata": {},
   "outputs": [],
   "source": [
    "cliques.sort(key = lambda clique: -len(clique))\n",
    "\",\".join(sorted(list(cliques[0])))"
   ]
  }
 ],
 "metadata": {
  "kernelspec": {
   "display_name": "Python 3",
   "language": "python",
   "name": "python3"
  },
  "language_info": {
   "codemirror_mode": {
    "name": "ipython",
    "version": 3
   },
   "file_extension": ".py",
   "mimetype": "text/x-python",
   "name": "python",
   "nbconvert_exporter": "python",
   "pygments_lexer": "ipython3",
   "version": "3.11.9"
  }
 },
 "nbformat": 4,
 "nbformat_minor": 2
}
