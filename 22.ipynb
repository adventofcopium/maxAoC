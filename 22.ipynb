{
 "cells": [
  {
   "cell_type": "code",
   "execution_count": 1,
   "metadata": {},
   "outputs": [],
   "source": [
    "from tqdm import tqdm\n",
    "import functools\n",
    "from itertools import product\n",
    "with open(\"input_22\") as f:\n",
    "    input = [int(i) for i in f.read().split(\"\\n\")]"
   ]
  },
  {
   "cell_type": "markdown",
   "metadata": {},
   "source": [
    "## Part 1"
   ]
  },
  {
   "cell_type": "code",
   "execution_count": 2,
   "metadata": {},
   "outputs": [],
   "source": [
    "example = (1, 10, 100 ,2024)"
   ]
  },
  {
   "cell_type": "code",
   "execution_count": 3,
   "metadata": {},
   "outputs": [],
   "source": [
    "@functools.cache\n",
    "def evolve(number):\n",
    "    m = 16777216\n",
    "    number = ((number * 64) ^ number) % m\n",
    "    number = ((number // 32) ^ number) % m\n",
    "    return ((number * 2048) ^ number) % m"
   ]
  },
  {
   "cell_type": "code",
   "execution_count": null,
   "metadata": {},
   "outputs": [],
   "source": [
    "c = 0\n",
    "for num in input: #example:\n",
    "    for _ in range(2000):\n",
    "        num = evolve(num)\n",
    "    c += num\n",
    "c"
   ]
  },
  {
   "cell_type": "markdown",
   "metadata": {},
   "source": [
    "## Part 2:"
   ]
  },
  {
   "cell_type": "code",
   "execution_count": 5,
   "metadata": {},
   "outputs": [],
   "source": [
    "example = (1, 2, 3, 2024)"
   ]
  },
  {
   "cell_type": "code",
   "execution_count": 6,
   "metadata": {},
   "outputs": [],
   "source": [
    "@functools.cache\n",
    "def changes_prices(number):\n",
    "    changes = []\n",
    "    prices = []\n",
    "    cur = number % 10\n",
    "    for _ in range(2000):\n",
    "        number = evolve(number)\n",
    "        nxt = number % 10\n",
    "        diff = nxt - cur\n",
    "        prices.append(nxt)\n",
    "        changes.append(f\"{diff:+}\")\n",
    "        cur = nxt\n",
    "    return \"\".join(changes), prices"
   ]
  },
  {
   "cell_type": "code",
   "execution_count": null,
   "metadata": {},
   "outputs": [],
   "source": [
    "all_changes_prices = [changes_prices(buyer) for buyer in input]\n",
    "totals = []\n",
    "combinations = list(\"\".join((f\"{a:+}\" for a in comb)) for comb in product(range(-1,3),repeat=4) if sum(comb)>0 and comb[-1]>0)\n",
    "\n",
    "for combination in tqdm(combinations):\n",
    "    c = 0\n",
    "    l = len(combination)\n",
    "    for changes, prices in all_changes_prices:\n",
    "        try:\n",
    "            idx = changes.index(combination) // 2\n",
    "            c += prices[idx + 3]\n",
    "        except:\n",
    "            continue\n",
    "    totals.append(c)\n",
    "print(max(totals))"
   ]
  }
 ],
 "metadata": {
  "kernelspec": {
   "display_name": "Python 3",
   "language": "python",
   "name": "python3"
  },
  "language_info": {
   "codemirror_mode": {
    "name": "ipython",
    "version": 3
   },
   "file_extension": ".py",
   "mimetype": "text/x-python",
   "name": "python",
   "nbconvert_exporter": "python",
   "pygments_lexer": "ipython3",
   "version": "3.11.9"
  }
 },
 "nbformat": 4,
 "nbformat_minor": 2
}
