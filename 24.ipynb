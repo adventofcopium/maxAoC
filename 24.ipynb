{
 "cells": [
  {
   "cell_type": "code",
   "execution_count": null,
   "metadata": {},
   "outputs": [],
   "source": [
    "import operator\n",
    "filename = \"input_24\"\n",
    "#filename = \"example_24.txt\"\n",
    "with open(filename) as f:\n",
    "    input1, input2 = f.read().split(\"\\n\\n\")"
   ]
  },
  {
   "cell_type": "markdown",
   "metadata": {},
   "source": [
    "## Part 1:"
   ]
  },
  {
   "cell_type": "code",
   "execution_count": 2,
   "metadata": {},
   "outputs": [],
   "source": [
    "operator_map = {\"AND\": operator.__and__,\n",
    "                \"OR\": operator.__or__,\n",
    "                \"XOR\": operator.__xor__}"
   ]
  },
  {
   "cell_type": "code",
   "execution_count": 3,
   "metadata": {},
   "outputs": [],
   "source": [
    "input_wires = dict([(el[0:3],int(el[-1])) for el in input1.split(\"\\n\")])\n",
    "gates = [line.split(\" \") for line in input2.split(\"\\n\")]\n",
    "wires = dict([(gate[0],None) for gate in gates] + \n",
    "             [(gate[2],None) for gate in gates] + \n",
    "             [(gate[4],None) for gate in gates]) | input_wires"
   ]
  },
  {
   "cell_type": "code",
   "execution_count": 4,
   "metadata": {},
   "outputs": [],
   "source": [
    "while gates:\n",
    "    for gate in gates:\n",
    "        try:\n",
    "            x = operator_map[gate[1]](wires[gate[0]], wires[gate[2]])\n",
    "        except TypeError: pass\n",
    "        else:\n",
    "            wires[gate[4]] = x\n",
    "            gates.remove(gate)"
   ]
  },
  {
   "cell_type": "code",
   "execution_count": 5,
   "metadata": {},
   "outputs": [],
   "source": [
    "output = \"\"\n",
    "for i in range(100):\n",
    "    number = \"z\" + str(i).zfill(2)\n",
    "    try:\n",
    "        output += str(wires[number])\n",
    "    except KeyError:\n",
    "        break"
   ]
  },
  {
   "cell_type": "code",
   "execution_count": null,
   "metadata": {},
   "outputs": [],
   "source": [
    "int(output[::-1], base=2)"
   ]
  },
  {
   "cell_type": "markdown",
   "metadata": {},
   "source": [
    "## Part 2:"
   ]
  },
  {
   "cell_type": "markdown",
   "metadata": {},
   "source": [
    "Every operation on input wires xi, yi (starting with x02) has the following form: \\\n",
    "xi XOR yi = aaa --> aaa XOR previous_carry = zi \\\n",
    "                    aaa AND previous_carry = ccc \\\n",
    "xi and yi = bbb --> bbb OR ccc = carry \\\n",
    "Where previous_carry is the value of carry from the last operation."
   ]
  },
  {
   "cell_type": "code",
   "execution_count": 51,
   "metadata": {},
   "outputs": [],
   "source": [
    "def swap_gates(gates, problem_gates):\n",
    "    gate1, gate2 = problem_gates\n",
    "    output1 = gates[gate1]\n",
    "    output2 = gates[gate2]\n",
    "    gates[gate2] = output1\n",
    "    gates[tuple(reversed(gate2))] = output1\n",
    "    gates[gate1] = output2\n",
    "    gates[tuple(reversed(gate1))] = output2\n",
    "    return gates"
   ]
  },
  {
   "cell_type": "code",
   "execution_count": 52,
   "metadata": {},
   "outputs": [],
   "source": [
    "gates_list = [line.split(\" \") for line in input2.split(\"\\n\")]\n",
    "gates = {}\n",
    "for gate in gates_list:\n",
    "    # add gate partners in both orders\n",
    "    gates[tuple(gate[:3])] = gate[4]\n",
    "    gates[tuple(reversed(gate[:3]))] = gate[4]"
   ]
  },
  {
   "cell_type": "code",
   "execution_count": 53,
   "metadata": {},
   "outputs": [],
   "source": [
    "faulty_gates = []\n",
    "carry = \"htw\"\n",
    "for i in range(2, len(input_wires) // 2):\n",
    "    x = \"x\" + str(i).zfill(2)\n",
    "    y = \"y\" + str(i).zfill(2)\n",
    "    z = \"z\" + str(i).zfill(2)\n",
    "\n",
    "    while True:\n",
    "        problem_gates = set()\n",
    "\n",
    "        x_xor_y = gates[(x, \"XOR\", y)]\n",
    "        if x_xor_y == z:\n",
    "            problem_gates.add((x, \"XOR\", y))\n",
    "        \n",
    "        x_and_y = gates[(x, \"AND\", y)]\n",
    "        if x_and_y == z:\n",
    "            problem_gates.add((x, \"AND\", y))\n",
    "\n",
    "        try: \n",
    "            output = gates[(x_xor_y, \"XOR\", carry)]\n",
    "            if output != z:\n",
    "                problem_gates.add((x_xor_y, \"XOR\", carry))\n",
    "        except KeyError:\n",
    "            problem_gates.add((x, \"XOR\", y))\n",
    "        if len(problem_gates) == 2:\n",
    "            gates = swap_gates(gates, list(problem_gates))\n",
    "            faulty_gates.extend(problem_gates)\n",
    "            continue\n",
    "\n",
    "        try:\n",
    "            intermediate = gates[(x_xor_y, \"AND\", carry)]\n",
    "            if intermediate == z:\n",
    "                problem_gates.add((x_xor_y, \"AND\", carry))\n",
    "        except KeyError:\n",
    "            problem_gates.add((x, \"XOR\", y))\n",
    "        if len(problem_gates) == 2:\n",
    "            gates = swap_gates(gates, list(problem_gates))\n",
    "            faulty_gates.extend(problem_gates)\n",
    "            continue\n",
    "\n",
    "        try:\n",
    "            carry = gates[(x_and_y, \"OR\", intermediate)]\n",
    "            if carry == z:\n",
    "                problem_gates.add((x_and_y, \"OR\", intermediate))\n",
    "        except KeyError:\n",
    "            problem_gates.add((x, \"AND\", y))\n",
    "        if len(problem_gates) == 2:\n",
    "            gates = swap_gates(gates, list(problem_gates))\n",
    "            faulty_gates.extend(problem_gates)\n",
    "            continue\n",
    "\n",
    "        if len(problem_gates) < 2:\n",
    "            break\n"
   ]
  },
  {
   "cell_type": "code",
   "execution_count": null,
   "metadata": {},
   "outputs": [],
   "source": [
    "faulty_gates"
   ]
  },
  {
   "cell_type": "code",
   "execution_count": null,
   "metadata": {},
   "outputs": [],
   "source": [
    "faulty_nodes = [gates[gate] for gate in faulty_gates]\n",
    "print(\",\".join(sorted(faulty_nodes)))"
   ]
  },
  {
   "cell_type": "markdown",
   "metadata": {},
   "source": [
    "+ first pair: x10 and y10 = z10, kck xor skm = vcf\n",
    "+ second pair: qjg and jjf = z17, qjg xor jjf = fhg\n",
    "+ third pair: x35 and y35 = dvb, x35 xor y35 = fsq\n",
    "+ fourth pair: rvd or wrj = z39, kmh xor mnd = tnc"
   ]
  },
  {
   "cell_type": "markdown",
   "metadata": {},
   "source": [
    "## Visualization"
   ]
  },
  {
   "cell_type": "code",
   "execution_count": 63,
   "metadata": {},
   "outputs": [],
   "source": [
    "import networkx as nx\n",
    "import matplotlib.pyplot as plt"
   ]
  },
  {
   "cell_type": "code",
   "execution_count": 67,
   "metadata": {},
   "outputs": [],
   "source": [
    "G = nx.Graph()\n",
    "gates = [line.split(\" \") for line in input2.split(\"\\n\")]\n",
    "\n",
    "# add input nodes:\n",
    "G.add_nodes_from(input_wires.keys())\n",
    "# add intermediate nodes:\n",
    "for i, gate in enumerate(gates):\n",
    "    G.add_node(gate[0])\n",
    "    G.add_node(gate[2])\n",
    "    G.add_node(gate[4])\n",
    "    G.add_node((gate[1],i))"
   ]
  },
  {
   "cell_type": "code",
   "execution_count": 68,
   "metadata": {},
   "outputs": [],
   "source": [
    "# add edges:\n",
    "for i, gate in enumerate(gates):\n",
    "    G.add_edge(gate[0], (gate[1],i))\n",
    "    G.add_edge(gate[2], (gate[1],i))\n",
    "    G.add_edge((gate[1],i), gate[4])"
   ]
  },
  {
   "cell_type": "code",
   "execution_count": null,
   "metadata": {},
   "outputs": [],
   "source": [
    "ax = plt.figure(figsize=(30,30))\n",
    "nx.draw(G, with_labels=True, font_weight='bold')"
   ]
  }
 ],
 "metadata": {
  "kernelspec": {
   "display_name": "Python 3",
   "language": "python",
   "name": "python3"
  },
  "language_info": {
   "codemirror_mode": {
    "name": "ipython",
    "version": 3
   },
   "file_extension": ".py",
   "mimetype": "text/x-python",
   "name": "python",
   "nbconvert_exporter": "python",
   "pygments_lexer": "ipython3",
   "version": "3.11.9"
  }
 },
 "nbformat": 4,
 "nbformat_minor": 2
}
