{
 "cells": [
  {
   "cell_type": "code",
   "execution_count": 170,
   "metadata": {},
   "outputs": [],
   "source": [
    "import numpy as np\n",
    "from tqdm import tqdm\n",
    "from itertools import product\n",
    "from copy import deepcopy\n",
    "filename = \"input_20.txt\"\n",
    "#filename = \"example_20.txt\"\n",
    "with open(filename) as f:\n",
    "    input = np.array([[i for i in line] for line in f.read().split(\"\\n\")], dtype=object)"
   ]
  },
  {
   "cell_type": "markdown",
   "metadata": {},
   "source": [
    "## Preparation"
   ]
  },
  {
   "cell_type": "code",
   "execution_count": 171,
   "metadata": {},
   "outputs": [],
   "source": [
    "i0, j0 = tuple(i[0] for i in np.where(input == \"S\")) #starting\n",
    "iN, jN = tuple(i[0] for i in np.where(input == \"E\")) #end\n",
    "path = {tuple(pos) for pos in np.array(np.where(input == \".\"), dtype=np.int16).T}\n",
    "path.add((iN.item(),jN.item()))\n",
    "path.add((i0.item(),j0.item()))"
   ]
  },
  {
   "cell_type": "code",
   "execution_count": 172,
   "metadata": {},
   "outputs": [],
   "source": [
    "def trace_track(input):\n",
    "    i0, j0 = tuple(i[0] for i in np.where(input == \"S\")) #starting\n",
    "    iN, jN = tuple(i[0] for i in np.where(input == \"E\")) #end\n",
    "    input[i0, j0] = 0\n",
    "    input[iN, jN] = \".\"\n",
    "    directions = {(1,0), (-1,0), (0,1), (0,-1)}\n",
    "    i,j = i0,j0\n",
    "    c = 0\n",
    "    while (i,j) != (iN,jN):\n",
    "        for dir in directions:\n",
    "            if input[i+dir[0], j+dir[1]] == \".\":\n",
    "                i,j = i+dir[0],j+dir[1]\n",
    "                c += 1\n",
    "                input[i,j] = c\n",
    "                break\n",
    "    return input"
   ]
  },
  {
   "cell_type": "code",
   "execution_count": 173,
   "metadata": {},
   "outputs": [],
   "source": [
    "track = trace_track(deepcopy(input))"
   ]
  },
  {
   "cell_type": "markdown",
   "metadata": {},
   "source": [
    "## Part 1:"
   ]
  },
  {
   "cell_type": "code",
   "execution_count": 174,
   "metadata": {},
   "outputs": [],
   "source": [
    "def find_skips(track, path):\n",
    "    directions = {(1,0), (-1,0), (0,1), (0,-1)}\n",
    "    c = 0\n",
    "    for a,b in path:\n",
    "        for y,x in directions:\n",
    "            i,j = a + 2*y, b + 2*x\n",
    "            if (i,j) in path and (i-y,j-x) not in path:\n",
    "                diff = track[i][j] - track[a][b] - 2\n",
    "                if diff >= 100:\n",
    "                    c += 1\n",
    "    print(c)"
   ]
  },
  {
   "cell_type": "code",
   "execution_count": null,
   "metadata": {},
   "outputs": [],
   "source": [
    "find_skips(track, path)"
   ]
  },
  {
   "cell_type": "markdown",
   "metadata": {},
   "source": [
    "## Part 2:"
   ]
  },
  {
   "cell_type": "code",
   "execution_count": 182,
   "metadata": {},
   "outputs": [],
   "source": [
    "def find_skips_2(track, path):\n",
    "    c = 0\n",
    "    l = len(track)\n",
    "    neighborhood = {(i,j) for (i,j) in product(range(-21,21), repeat = 2) if 0 < abs(i)+abs(j) <= 20}\n",
    "    for y,x in tqdm(path):\n",
    "        dist1 = track[y,x]\n",
    "        for i,j in neighborhood:\n",
    "            dist2 = dist1 + abs(i) + abs(j)\n",
    "            if (y+i, x+j) in path:\n",
    "                if track[y+i][x+j] - dist2 >= 100:\n",
    "                    c += 1\n",
    "    print(c)"
   ]
  },
  {
   "cell_type": "code",
   "execution_count": null,
   "metadata": {},
   "outputs": [],
   "source": [
    "find_skips_2(track, path)"
   ]
  },
  {
   "cell_type": "code",
   "execution_count": 178,
   "metadata": {},
   "outputs": [],
   "source": [
    "def visualize_grid(path, gridlen):\n",
    "    grid = []\n",
    "    for i in range(gridlen):\n",
    "        line = []\n",
    "        for j in range(gridlen):\n",
    "            if (i,j) in path:\n",
    "                line.append(\"O\")\n",
    "            else:\n",
    "                line.append(\".\")\n",
    "        grid.append(line)\n",
    "    for line in grid:\n",
    "        print(\"\".join(line))"
   ]
  },
  {
   "cell_type": "code",
   "execution_count": null,
   "metadata": {},
   "outputs": [],
   "source": [
    "#visualize_grid(path, len(input))"
   ]
  }
 ],
 "metadata": {
  "kernelspec": {
   "display_name": "Python 3",
   "language": "python",
   "name": "python3"
  },
  "language_info": {
   "codemirror_mode": {
    "name": "ipython",
    "version": 3
   },
   "file_extension": ".py",
   "mimetype": "text/x-python",
   "name": "python",
   "nbconvert_exporter": "python",
   "pygments_lexer": "ipython3",
   "version": "3.13.1"
  }
 },
 "nbformat": 4,
 "nbformat_minor": 2
}
