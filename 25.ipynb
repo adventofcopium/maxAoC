{
 "cells": [
  {
   "cell_type": "code",
   "execution_count": null,
   "metadata": {},
   "outputs": [],
   "source": [
    "import numpy as np\n",
    "filename = \"input_25\"\n",
    "#filename = \"example_25.txt\"\n",
    "with open(filename) as f:\n",
    "    input = [line.split(\"\\n\") for line in f.read().split(\"\\n\\n\")]"
   ]
  },
  {
   "cell_type": "code",
   "execution_count": 27,
   "metadata": {},
   "outputs": [],
   "source": [
    "keys = []\n",
    "locks = []\n",
    "def count_pins(schematic):\n",
    "    counts = np.array([0] * 5)\n",
    "    for i in range(1,6):\n",
    "        for j in range(5):\n",
    "            if schematic[i][j] == \"#\":\n",
    "                counts[j] += 1\n",
    "    return counts\n",
    "for schematic in input:\n",
    "    if schematic[0] == \"#####\":\n",
    "        locks.append(count_pins(schematic))\n",
    "    if schematic[0] == \".....\":\n",
    "        keys.append(count_pins(schematic))"
   ]
  },
  {
   "cell_type": "code",
   "execution_count": null,
   "metadata": {},
   "outputs": [],
   "source": [
    "c = 0\n",
    "for lock in locks:\n",
    "    for key in keys:\n",
    "        if np.all(lock + key <= 5):\n",
    "            c += 1\n",
    "c"
   ]
  }
 ],
 "metadata": {
  "kernelspec": {
   "display_name": "Python 3",
   "language": "python",
   "name": "python3"
  },
  "language_info": {
   "codemirror_mode": {
    "name": "ipython",
    "version": 3
   },
   "file_extension": ".py",
   "mimetype": "text/x-python",
   "name": "python",
   "nbconvert_exporter": "python",
   "pygments_lexer": "ipython3",
   "version": "3.11.9"
  }
 },
 "nbformat": 4,
 "nbformat_minor": 2
}
