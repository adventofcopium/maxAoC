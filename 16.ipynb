{
 "cells": [
  {
   "cell_type": "code",
   "execution_count": 1,
   "metadata": {},
   "outputs": [],
   "source": [
    "import numpy as np\n",
    "import heapq as hq\n",
    "from copy import deepcopy\n",
    "filename = \"input_16\"\n",
    "#filename = \"example_16.txt\"\n",
    "#filename = \"example_16_2.txt\"\n",
    "with open(filename) as f:\n",
    "    input = [[i for i in line[1:-1]] for line in f.read().split(\"\\n\")[1:-1]]"
   ]
  },
  {
   "cell_type": "code",
   "execution_count": null,
   "metadata": {},
   "outputs": [],
   "source": [
    "def print_grid(grid):\n",
    "    for line in grid:\n",
    "        print(\"\".join(line))\n",
    "#print_grid(input)"
   ]
  },
  {
   "cell_type": "code",
   "execution_count": 3,
   "metadata": {},
   "outputs": [],
   "source": [
    "def find_shortest_path(input):\n",
    "\n",
    "    xlen = len(input[0])\n",
    "    ylen = len(input)\n",
    "    direction_map = {0:(0,1), 1:(0,-1), 2:(1,0), 3:(-1,0)}\n",
    "    allowed_turns = {0:[2,3], 1:[2,3], 2:[0,1], 3:[0,1]}\n",
    "    grid = np.zeros((4,ylen,xlen), dtype=\"O\")\n",
    "    c = 0 # use this counter to remove ambiguities in heap ordering\n",
    "\n",
    "    # prepare input:\n",
    "    i0, j0 = tuple(i[0] for i in np.where(np.array(input) == \"S\")) #starting\n",
    "    iN, jN = tuple(i[0] for i in np.where(np.array(input) == \"E\")) #end\n",
    "    walls = np.array(np.where(np.array(input) == \"#\")).T.tolist()\n",
    "    for i in range(xlen):\n",
    "        for j in range(ylen):\n",
    "            for d in range(4):\n",
    "                grid[d][i][j] = {\n",
    "                    \"position\": (i,j,d),\n",
    "                    \"distance\": float(\"inf\"),\n",
    "                    \"predecessor\": [],\n",
    "                }\n",
    "    grid[0][i0][j0][\"distance\"] = 0\n",
    "    heap = [(0, 0, grid[0][i0][j0])]\n",
    "    seen = set()\n",
    "\n",
    "    while heap:\n",
    "        _, _, current_node = hq.heappop(heap)\n",
    "        current_position = current_node[\"position\"]\n",
    "        i, j, d = current_position\n",
    "        if (i,j) == (iN, jN): break\n",
    "        if current_position in seen: continue\n",
    "        seen.add(current_position)\n",
    "  \n",
    "        # can either change direction...\n",
    "        for new_d in allowed_turns[d]:\n",
    "            if (i, j, new_d) not in current_node[\"predecessor\"]:\n",
    "                node = grid[new_d][i][j]\n",
    "                dist = current_node[\"distance\"] + 1000\n",
    "                if dist < node[\"distance\"]:\n",
    "                    grid[new_d][i][j][\"distance\"] = dist\n",
    "                    grid[new_d][i][j][\"predecessor\"] = [current_position]\n",
    "                    hq.heappush(heap, (dist, (c:=c+1), grid[new_d][i][j]))\n",
    "                elif dist == node[\"distance\"]:\n",
    "                    grid[new_d][i][j][\"predecessor\"].append(current_position)\n",
    "        \n",
    "        # ... or go into the current direction:\n",
    "        current_dir = direction_map[d]\n",
    "        y = i + current_dir[0]\n",
    "        x = j + current_dir[1]\n",
    "        if y in range(ylen) and x in range(xlen) and [y,x] not in walls:\n",
    "            node = grid[d][y][x]\n",
    "            dist = current_node[\"distance\"] + 1\n",
    "            if dist < node[\"distance\"]:\n",
    "                grid[d][y][x][\"distance\"] = dist\n",
    "                grid[d][y][x][\"predecessor\"] = [current_position]\n",
    "                hq.heappush(heap, (dist, (c:=c+1), grid[d][y][x]))\n",
    "            elif dist == node[\"distance\"]:\n",
    "                grid[d][y][x][\"predecessor\"].append(current_position)\n",
    "\n",
    "    return grid"
   ]
  },
  {
   "cell_type": "code",
   "execution_count": null,
   "metadata": {},
   "outputs": [],
   "source": [
    "# part 1:\n",
    "grid = deepcopy(input)\n",
    "nodes = find_shortest_path(grid)\n",
    "print(min([nodes[i][0][-1][\"distance\"] for i in range(4)]))"
   ]
  },
  {
   "cell_type": "code",
   "execution_count": 13,
   "metadata": {},
   "outputs": [],
   "source": [
    "# part 2:\n",
    "def find_best_tiles(nodes, input):\n",
    "    best_tiles = set()\n",
    "    iN, jN = tuple(i[0] for i in np.where(np.array(input) == \"E\")) #end\n",
    "    dN = np.argmin([nodes[i][0][-1][\"distance\"] for i in range(4)]) # final orientation\n",
    "    tiles_to_check = [(iN, jN, dN)]\n",
    "    while tiles_to_check:\n",
    "        i, j, d = tiles_to_check.pop()\n",
    "        best_tiles.add((i,j))        \n",
    "        for next_tile in nodes[d][i][j][\"predecessor\"]:\n",
    "            tiles_to_check.append(next_tile)\n",
    "    return len(best_tiles), best_tiles"
   ]
  },
  {
   "cell_type": "code",
   "execution_count": null,
   "metadata": {},
   "outputs": [],
   "source": [
    "number_of_best_tiles, best_tiles = find_best_tiles(nodes, input)\n",
    "print(number_of_best_tiles)"
   ]
  },
  {
   "cell_type": "code",
   "execution_count": null,
   "metadata": {},
   "outputs": [],
   "source": [
    "def show_best_paths(input, best_tiles):\n",
    "    for i,j in best_tiles:\n",
    "        input[i][j] = \"O\"\n",
    "    for line in input:\n",
    "        print(\"\".join(line))\n",
    "#show_best_paths(input, best_tiles)"
   ]
  }
 ],
 "metadata": {
  "kernelspec": {
   "display_name": "Python 3",
   "language": "python",
   "name": "python3"
  },
  "language_info": {
   "codemirror_mode": {
    "name": "ipython",
    "version": 3
   },
   "file_extension": ".py",
   "mimetype": "text/x-python",
   "name": "python",
   "nbconvert_exporter": "python",
   "pygments_lexer": "ipython3",
   "version": "3.11.9"
  }
 },
 "nbformat": 4,
 "nbformat_minor": 2
}
