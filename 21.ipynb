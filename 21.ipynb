{
 "cells": [
  {
   "cell_type": "code",
   "execution_count": 73,
   "metadata": {},
   "outputs": [],
   "source": [
    "import numpy as np\n",
    "from tqdm import tqdm\n",
    "from itertools import product\n",
    "filename = \"input_21\"\n",
    "#filename = \"example_21.txt\"\n",
    "with open(filename) as f:\n",
    "    input = f.read().split(\"\\n\")"
   ]
  },
  {
   "cell_type": "markdown",
   "metadata": {},
   "source": [
    "## Part 1:"
   ]
  },
  {
   "cell_type": "code",
   "execution_count": 74,
   "metadata": {},
   "outputs": [],
   "source": [
    "def input_to_keypad(input):\n",
    "    numeric_pad = np.asarray([[7,8,9],[4,5,6],[1,2,3],[\"no\",0,\"A\"]])\n",
    "    i0, j0 = np.where(numeric_pad == \"A\")\n",
    "    sequences = [\"\"]\n",
    "    for char in input:\n",
    "        i1, j1 = np.where(numeric_pad == char)\n",
    "        di, dj = (i1 - i0).item(), (j1 - j0).item()\n",
    "        to_add = []\n",
    "        # l = left, r = right, u = up, d = down, p = press\n",
    "        if di < 0: to_add.append(\"u\" * -di)\n",
    "        if dj > 0: to_add.append(\"r\" * dj)\n",
    "        if di > 0: to_add.append(\"d\" * di)\n",
    "        if dj < 0: to_add.append(\"l\" * -dj)\n",
    "        condition = (i0 + di == 3 and j0 == 0) or (j0 + dj == 0 and i0 == 3)\n",
    "        if len(to_add) > 1 and not condition:\n",
    "            perms = (\"\".join(to_add), \"\".join(reversed(to_add)))\n",
    "        else:\n",
    "            perms = (\"\".join(to_add),)\n",
    "        for sequence in sequences.copy():\n",
    "            sequences += [sequence + perm + \"A\" for perm in perms]\n",
    "            sequences.remove(sequence)\n",
    "        i0, j0 = i1, j1\n",
    "    return sequences"
   ]
  },
  {
   "cell_type": "code",
   "execution_count": 75,
   "metadata": {},
   "outputs": [],
   "source": [
    "def keypad_to_keypad(keypad):\n",
    "    dirmap = {\"no\":np.array((0,0)), \n",
    "          \"u\":np.array((0,1)), \n",
    "          \"A\":np.array((0,2)),\n",
    "          \"l\":np.array((1,0)),\n",
    "          \"d\":np.array((1,1)),\n",
    "          \"r\":np.array((1,2))}\n",
    "    current = \"A\"\n",
    "    sequence = []\n",
    "    for char in keypad:\n",
    "        dy, dx = dirmap[char] - dirmap[current]\n",
    "        # order: down before left, right before up\n",
    "        if dy > 0: sequence.extend([\"d\"] * dy)\n",
    "        if dx < 0: sequence.extend([\"l\"] * -dx)\n",
    "        if dx > 0: sequence.extend([\"r\"] * dx)\n",
    "        if dy < 0: sequence.extend([\"u\"] * -dy)\n",
    "        sequence.append(\"A\")\n",
    "        current = char\n",
    "    return tuple(sequence)"
   ]
  },
  {
   "cell_type": "code",
   "execution_count": null,
   "metadata": {},
   "outputs": [],
   "source": [
    "c = 0\n",
    "for code in input:\n",
    "    keypads = input_to_keypad(code)\n",
    "    sequences = [keypad_to_keypad(keypad_to_keypad(keypad)) for keypad in keypads]\n",
    "    l = min([len(sequence) for sequence in sequences])\n",
    "    print(l)\n",
    "    c += l * int(code[:-1])\n",
    "c"
   ]
  },
  {
   "cell_type": "markdown",
   "metadata": {},
   "source": [
    "## Part 2:"
   ]
  },
  {
   "cell_type": "code",
   "execution_count": null,
   "metadata": {},
   "outputs": [],
   "source": [
    "\"\"\"\"\n",
    "c = 0\n",
    "for code in input:\n",
    "    keypads = [list(pad) for pad in input_to_keypad(code)]\n",
    "    sequences = []\n",
    "    for keypad in keypads:\n",
    "        sequence = [\"A\"] + keypad\n",
    "        for _ in tqdm(range(26)):\n",
    "            new_sequence = [\"A\"]\n",
    "            for i,j in zip(sequence[:-1], sequence[1:]):\n",
    "                new_sequence.extend(map[i,j])\n",
    "            sequence = new_sequence.copy()\n",
    "            print(len(sequence))\n",
    "        sequences.append(sequence)\n",
    "    l = min([len(sequence) for sequence in sequences])\n",
    "    print(l)\n",
    "    c += l * int(code[:-1])\n",
    "c\n",
    "\"\"\""
   ]
  },
  {
   "cell_type": "code",
   "execution_count": 78,
   "metadata": {},
   "outputs": [],
   "source": [
    "map = {}\n",
    "for char1 in \"Aurld\":\n",
    "    for char2 in \"Aulrd\":\n",
    "        path = keypad_to_keypad(char1 + char2)\n",
    "        idx = path.index(\"A\")\n",
    "        map[(char1,char2)] = path[idx+1:]"
   ]
  },
  {
   "cell_type": "code",
   "execution_count": 79,
   "metadata": {},
   "outputs": [],
   "source": [
    "# Need to swap d <--> l when going from A to d\n",
    "# and r <--> u when going from d to A\n",
    "map[(\"A\",\"d\")] = (\"l\",\"d\",\"A\")\n",
    "map[(\"d\",\"A\")] = (\"u\",\"r\",\"A\")"
   ]
  },
  {
   "cell_type": "code",
   "execution_count": 80,
   "metadata": {},
   "outputs": [],
   "source": [
    "def solution_2(codes, map, pad_amount):\n",
    "    c = 0\n",
    "    for code in codes:\n",
    "        # convert numeric input code into (possible) directional keypad codes\n",
    "        keypads = [list(pad) for pad in input_to_keypad(code)]\n",
    "\n",
    "        lengths = []\n",
    "        for keypad in keypads:\n",
    "            # start from A, count multiplicities of character pairs\n",
    "            sequence = [\"A\"] + keypad\n",
    "            multiplicities = dict([(comb, 0) for comb in map.keys()])\n",
    "            for pair in zip(sequence[:-1], sequence[1:]):\n",
    "                multiplicities[pair] += 1\n",
    "\n",
    "            # evolve every character pair, count multiplicites\n",
    "            for _ in range(pad_amount):\n",
    "                new_multiplicities = dict([(comb, 0) for comb in map.keys()])\n",
    "                for pair in multiplicities.keys():\n",
    "                    new_sequence = (\"A\",) + map[pair]\n",
    "                    new_pairs = list(zip(new_sequence[:-1], new_sequence[1:]))\n",
    "                    for new_pair in new_pairs:\n",
    "                        new_multiplicities[new_pair] += multiplicities[pair]\n",
    "                multiplicities = new_multiplicities.copy()\n",
    "            lengths.append(sum(multiplicities.values()))\n",
    "\n",
    "        l = min(lengths)\n",
    "        c += l * int(code[:-1])\n",
    "    print(c)"
   ]
  },
  {
   "cell_type": "code",
   "execution_count": null,
   "metadata": {},
   "outputs": [],
   "source": [
    "solution_2(input, map, 25)"
   ]
  }
 ],
 "metadata": {
  "kernelspec": {
   "display_name": "Python 3",
   "language": "python",
   "name": "python3"
  },
  "language_info": {
   "codemirror_mode": {
    "name": "ipython",
    "version": 3
   },
   "file_extension": ".py",
   "mimetype": "text/x-python",
   "name": "python",
   "nbconvert_exporter": "python",
   "pygments_lexer": "ipython3",
   "version": "3.11.9"
  }
 },
 "nbformat": 4,
 "nbformat_minor": 2
}
